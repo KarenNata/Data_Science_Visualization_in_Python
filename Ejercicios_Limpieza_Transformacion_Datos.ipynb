{
 "cells": [
  {
   "cell_type": "markdown",
   "metadata": {
    "toc": true
   },
   "source": [
    "<h1>Table of Contents<span class=\"tocSkip\"></span></h1>\n",
    "<div class=\"toc\"><ul class=\"toc-item\"><li><span><a href=\"#Ejercicio-Fechas-Publicación\" data-toc-modified-id=\"Ejercicio-Fechas-Publicación-1\"><span class=\"toc-item-num\">1&nbsp;&nbsp;</span>Ejercicio Fechas Publicación</a></span></li><li><span><a href=\"#Ejercicio-Tipo-de-Contrato-y-Subtipo-de-Contrato\" data-toc-modified-id=\"Ejercicio-Tipo-de-Contrato-y-Subtipo-de-Contrato-2\"><span class=\"toc-item-num\">2&nbsp;&nbsp;</span>Ejercicio Tipo de Contrato y Subtipo de Contrato</a></span></li><li><span><a href=\"#Ejercicio-Duración-del-contrato\" data-toc-modified-id=\"Ejercicio-Duración-del-contrato-3\"><span class=\"toc-item-num\">3&nbsp;&nbsp;</span>Ejercicio Duración del contrato</a></span></li></ul></div>"
   ]
  },
  {
   "cell_type": "markdown",
   "metadata": {},
   "source": [
    "# Ejercicios Limpieza de Datos <a class=\"tocSkip\">\n",
    "\n",
    "por Mónica Tatiana Gutierrez B\n",
    "\n",
    "version 0.1, Feb 2021\n",
    "\n",
    "Parte de la clase Curso de visualización para ciencia de datos en Python"
   ]
  },
  {
   "cell_type": "code",
   "execution_count": 36,
   "metadata": {
    "ExecuteTime": {
     "end_time": "2021-03-01T03:42:20.681744Z",
     "start_time": "2021-03-01T03:42:19.827059Z"
    }
   },
   "outputs": [],
   "source": [
    "import pandas as pd\n",
    "import numpy as np\n",
    "pd.set_option('display.max_columns', None) #Mostrar todas las columnas"
   ]
  },
  {
   "cell_type": "code",
   "execution_count": 12,
   "metadata": {},
   "outputs": [],
   "source": [
    "import pyarrow as pa\n",
    "import pyarrow.parquet as pq"
   ]
  },
  {
   "cell_type": "code",
   "execution_count": 37,
   "metadata": {},
   "outputs": [],
   "source": [
    "import time"
   ]
  },
  {
   "cell_type": "code",
   "execution_count": 38,
   "metadata": {
    "ExecuteTime": {
     "end_time": "2021-03-01T03:42:27.489283Z",
     "start_time": "2021-03-01T03:42:20.684746Z"
    }
   },
   "outputs": [
    {
     "name": "stdout",
     "output_type": "stream",
     "text": [
      "seconds 10.196136236190796\n"
     ]
    }
   ],
   "source": [
    "start=time.time()\n",
    "df_SECOP = pd.read_csv('Datos_SECOP.csv', \n",
    "                 sep = ',',\n",
    "                 index_col=0,\n",
    "                 dtype={\n",
    "                     'Nit Entidad': str\n",
    "                 })\n",
    "df_SECOP.head()\n",
    "print(f\"seconds {time.time()-start}\")"
   ]
  },
  {
   "cell_type": "code",
   "execution_count": 39,
   "metadata": {},
   "outputs": [
    {
     "data": {
      "text/plain": [
       "(781762, 26)"
      ]
     },
     "execution_count": 39,
     "metadata": {},
     "output_type": "execute_result"
    }
   ],
   "source": [
    "df_SECOP.shape"
   ]
  },
  {
   "cell_type": "code",
   "execution_count": 15,
   "metadata": {},
   "outputs": [],
   "source": [
    "tabla=pa.Table.from_pandas(df_SECOP)\n",
    "pq.write_table(tabla,\"df_SECOP.parquet\")"
   ]
  },
  {
   "cell_type": "code",
   "execution_count": 17,
   "metadata": {},
   "outputs": [
    {
     "data": {
      "text/plain": [
       "'C:\\\\Users\\\\Personal\\\\Desktop\\\\Universidad y Estudios\\\\UNIVERSIDAD\\\\Semestre 2021-I\\\\Visualización para ciencia de datos en Python\\\\VisualAnalytics'"
      ]
     },
     "execution_count": 17,
     "metadata": {},
     "output_type": "execute_result"
    }
   ],
   "source": [
    "import os\n",
    "os.getcwd()"
   ]
  },
  {
   "cell_type": "code",
   "execution_count": 24,
   "metadata": {},
   "outputs": [
    {
     "name": "stdout",
     "output_type": "stream",
     "text": [
      "seconds 6.52527642250061\n"
     ]
    }
   ],
   "source": [
    "start=time.time()\n",
    "tabla2=pq.read_table(\"df_SECOP.parquet\")\n",
    "tabla_pandas=tabla2.to_pandas()\n",
    "print(f\"seconds {time.time()-start}\")"
   ]
  },
  {
   "cell_type": "markdown",
   "metadata": {},
   "source": [
    "## Ejercicio Fechas Publicación"
   ]
  },
  {
   "cell_type": "markdown",
   "metadata": {},
   "source": [
    "Teniendo en cuenta que existe una Fecha de Publicación del Proceso y una fecha de última publicación, realice la limpieza de formato de dichas variables. Defina una nueva variable en la que se calcule la diferencia de éstas dos fechas y responda si incluiría las dos fechas dentro de la fuente de datos.\n",
    "\n",
    "*Utilice estadísticas descriptivas para responder la pregunta*"
   ]
  },
  {
   "cell_type": "code",
   "execution_count": 9,
   "metadata": {
    "ExecuteTime": {
     "end_time": "2021-03-01T03:40:16.886243Z",
     "start_time": "2021-03-01T03:40:16.309820Z"
    }
   },
   "outputs": [],
   "source": [
    "Dif=pd.to_datetime(df_SECOP[\"Fecha de Ultima Publicación\"],format=\"%m/%d/%Y\")-pd.to_datetime(df_SECOP[\"Fecha de Publicacion del Proceso\"],format=\"%Y-%m-%d\")"
   ]
  },
  {
   "cell_type": "code",
   "execution_count": 10,
   "metadata": {},
   "outputs": [
    {
     "data": {
      "text/plain": [
       "count                      781762\n",
       "mean     -1 days +20:30:26.409572\n",
       "std        0 days 08:27:47.428905\n",
       "min             -1 days +00:00:00\n",
       "25%               0 days 00:00:00\n",
       "50%               0 days 00:00:00\n",
       "75%               0 days 00:00:00\n",
       "max               0 days 00:00:00\n",
       "dtype: object"
      ]
     },
     "execution_count": 10,
     "metadata": {},
     "output_type": "execute_result"
    }
   ],
   "source": [
    "Dif.describe()"
   ]
  },
  {
   "cell_type": "markdown",
   "metadata": {},
   "source": [
    "## Ejercicio Tipo de Contrato y Subtipo de Contrato\n",
    "De acuerdo con las variables Contrato y Subcontrato, realice una tabla cruzada y responda ¿Vale la pena dejar ambas variables en la fuente de datos?"
   ]
  },
  {
   "cell_type": "code",
   "execution_count": 10,
   "metadata": {
    "ExecuteTime": {
     "end_time": "2021-03-01T03:40:17.320326Z",
     "start_time": "2021-03-01T03:40:16.982353Z"
    }
   },
   "outputs": [
    {
     "data": {
      "text/html": [
       "<div>\n",
       "<style scoped>\n",
       "    .dataframe tbody tr th:only-of-type {\n",
       "        vertical-align: middle;\n",
       "    }\n",
       "\n",
       "    .dataframe tbody tr th {\n",
       "        vertical-align: top;\n",
       "    }\n",
       "\n",
       "    .dataframe thead th {\n",
       "        text-align: right;\n",
       "    }\n",
       "</style>\n",
       "<table border=\"1\" class=\"dataframe\">\n",
       "  <thead>\n",
       "    <tr style=\"text-align: right;\">\n",
       "      <th>Tipo de Contrato</th>\n",
       "      <th>27 - Otros servicios</th>\n",
       "      <th>Acuerdo Marco</th>\n",
       "      <th>Alquiler de edificios</th>\n",
       "      <th>Arrendamiento Muebles</th>\n",
       "      <th>Comisión</th>\n",
       "      <th>Compraventa</th>\n",
       "      <th>Concesión</th>\n",
       "      <th>Consultoría</th>\n",
       "      <th>Decreto 092 de 2017</th>\n",
       "      <th>Interventoría</th>\n",
       "      <th>ND</th>\n",
       "      <th>No Especificado</th>\n",
       "      <th>Obra</th>\n",
       "      <th>Seguros</th>\n",
       "      <th>Servicios de aprovisionamiento</th>\n",
       "      <th>Suministros</th>\n",
       "      <th>Ventas de muebles</th>\n",
       "    </tr>\n",
       "    <tr>\n",
       "      <th>Subtipo de Contrato</th>\n",
       "      <th></th>\n",
       "      <th></th>\n",
       "      <th></th>\n",
       "      <th></th>\n",
       "      <th></th>\n",
       "      <th></th>\n",
       "      <th></th>\n",
       "      <th></th>\n",
       "      <th></th>\n",
       "      <th></th>\n",
       "      <th></th>\n",
       "      <th></th>\n",
       "      <th></th>\n",
       "      <th></th>\n",
       "      <th></th>\n",
       "      <th></th>\n",
       "      <th></th>\n",
       "    </tr>\n",
       "  </thead>\n",
       "  <tbody>\n",
       "    <tr>\n",
       "      <th>No Especificado</th>\n",
       "      <td>40200</td>\n",
       "      <td>962</td>\n",
       "      <td>7156</td>\n",
       "      <td>505</td>\n",
       "      <td>82</td>\n",
       "      <td>41921</td>\n",
       "      <td>104</td>\n",
       "      <td>4110</td>\n",
       "      <td>26740</td>\n",
       "      <td>4678</td>\n",
       "      <td>5068</td>\n",
       "      <td>4</td>\n",
       "      <td>11648</td>\n",
       "      <td>2142</td>\n",
       "      <td>591304</td>\n",
       "      <td>45029</td>\n",
       "      <td>109</td>\n",
       "    </tr>\n",
       "  </tbody>\n",
       "</table>\n",
       "</div>"
      ],
      "text/plain": [
       "Tipo de Contrato     27 - Otros servicios  Acuerdo Marco  \\\n",
       "Subtipo de Contrato                                        \n",
       "No Especificado                     40200            962   \n",
       "\n",
       "Tipo de Contrato     Alquiler de edificios  Arrendamiento Muebles  Comisión  \\\n",
       "Subtipo de Contrato                                                           \n",
       "No Especificado                       7156                    505        82   \n",
       "\n",
       "Tipo de Contrato     Compraventa  Concesión  Consultoría  Decreto 092 de 2017  \\\n",
       "Subtipo de Contrato                                                             \n",
       "No Especificado            41921        104         4110                26740   \n",
       "\n",
       "Tipo de Contrato     Interventoría    ND  No Especificado   Obra  Seguros  \\\n",
       "Subtipo de Contrato                                                         \n",
       "No Especificado               4678  5068                4  11648     2142   \n",
       "\n",
       "Tipo de Contrato     Servicios de aprovisionamiento  Suministros  \\\n",
       "Subtipo de Contrato                                                \n",
       "No Especificado                              591304        45029   \n",
       "\n",
       "Tipo de Contrato     Ventas de muebles  \n",
       "Subtipo de Contrato                     \n",
       "No Especificado                    109  "
      ]
     },
     "execution_count": 10,
     "metadata": {},
     "output_type": "execute_result"
    }
   ],
   "source": [
    "pd.crosstab(df_SECOP[\"Subtipo de Contrato\"],df_SECOP[\"Tipo de Contrato\"])"
   ]
  },
  {
   "cell_type": "markdown",
   "metadata": {},
   "source": [
    "## Ejercicio Duración del contrato\n",
    "Teniendo en cuenta que la duración de los contratos tiene métricas diferentes, encuentre una estrategia para crear una nueva variable en la cuál se encuentre parametrizada la variable de duración del contrato."
   ]
  },
  {
   "cell_type": "code",
   "execution_count": 40,
   "metadata": {
    "ExecuteTime": {
     "end_time": "2021-03-01T03:42:27.614051Z",
     "start_time": "2021-03-01T03:42:27.495282Z"
    }
   },
   "outputs": [
    {
     "data": {
      "text/plain": [
       "Dias     390312\n",
       "Meses    358815\n",
       "ND        26337\n",
       "Años       6298\n",
       "Name: Unidad de Duracion, dtype: int64"
      ]
     },
     "execution_count": 40,
     "metadata": {},
     "output_type": "execute_result"
    }
   ],
   "source": [
    "df_SECOP['Unidad de Duracion'].value_counts()"
   ]
  },
  {
   "cell_type": "code",
   "execution_count": 45,
   "metadata": {
    "ExecuteTime": {
     "end_time": "2021-03-01T03:42:27.708467Z",
     "start_time": "2021-03-01T03:42:27.617595Z"
    },
    "scrolled": true
   },
   "outputs": [
    {
     "data": {
      "text/html": [
       "<div>\n",
       "<style scoped>\n",
       "    .dataframe tbody tr th:only-of-type {\n",
       "        vertical-align: middle;\n",
       "    }\n",
       "\n",
       "    .dataframe tbody tr th {\n",
       "        vertical-align: top;\n",
       "    }\n",
       "\n",
       "    .dataframe thead th {\n",
       "        text-align: right;\n",
       "    }\n",
       "</style>\n",
       "<table border=\"1\" class=\"dataframe\">\n",
       "  <thead>\n",
       "    <tr style=\"text-align: right;\">\n",
       "      <th></th>\n",
       "      <th>Unidad de Duracion</th>\n",
       "      <th>Duracion</th>\n",
       "    </tr>\n",
       "  </thead>\n",
       "  <tbody>\n",
       "    <tr>\n",
       "      <th>450332</th>\n",
       "      <td>Dias</td>\n",
       "      <td>4.500000</td>\n",
       "    </tr>\n",
       "    <tr>\n",
       "      <th>640442</th>\n",
       "      <td>Meses</td>\n",
       "      <td>12.000000</td>\n",
       "    </tr>\n",
       "    <tr>\n",
       "      <th>594854</th>\n",
       "      <td>Dias</td>\n",
       "      <td>10.466667</td>\n",
       "    </tr>\n",
       "    <tr>\n",
       "      <th>752367</th>\n",
       "      <td>ND</td>\n",
       "      <td>0.000000</td>\n",
       "    </tr>\n",
       "    <tr>\n",
       "      <th>332149</th>\n",
       "      <td>Meses</td>\n",
       "      <td>11.000000</td>\n",
       "    </tr>\n",
       "    <tr>\n",
       "      <th>191765</th>\n",
       "      <td>Dias</td>\n",
       "      <td>0.333333</td>\n",
       "    </tr>\n",
       "    <tr>\n",
       "      <th>394274</th>\n",
       "      <td>Dias</td>\n",
       "      <td>6.066667</td>\n",
       "    </tr>\n",
       "    <tr>\n",
       "      <th>148128</th>\n",
       "      <td>Dias</td>\n",
       "      <td>3.033333</td>\n",
       "    </tr>\n",
       "    <tr>\n",
       "      <th>350159</th>\n",
       "      <td>Dias</td>\n",
       "      <td>10.900000</td>\n",
       "    </tr>\n",
       "    <tr>\n",
       "      <th>195861</th>\n",
       "      <td>Dias</td>\n",
       "      <td>5.000000</td>\n",
       "    </tr>\n",
       "    <tr>\n",
       "      <th>739125</th>\n",
       "      <td>Dias</td>\n",
       "      <td>1.000000</td>\n",
       "    </tr>\n",
       "    <tr>\n",
       "      <th>435030</th>\n",
       "      <td>Dias</td>\n",
       "      <td>10.566667</td>\n",
       "    </tr>\n",
       "    <tr>\n",
       "      <th>235374</th>\n",
       "      <td>Meses</td>\n",
       "      <td>8.000000</td>\n",
       "    </tr>\n",
       "    <tr>\n",
       "      <th>84</th>\n",
       "      <td>Meses</td>\n",
       "      <td>2.000000</td>\n",
       "    </tr>\n",
       "    <tr>\n",
       "      <th>580212</th>\n",
       "      <td>Dias</td>\n",
       "      <td>0.333333</td>\n",
       "    </tr>\n",
       "    <tr>\n",
       "      <th>311750</th>\n",
       "      <td>Meses</td>\n",
       "      <td>1.000000</td>\n",
       "    </tr>\n",
       "    <tr>\n",
       "      <th>272389</th>\n",
       "      <td>Dias</td>\n",
       "      <td>4.666667</td>\n",
       "    </tr>\n",
       "    <tr>\n",
       "      <th>435072</th>\n",
       "      <td>Meses</td>\n",
       "      <td>7.000000</td>\n",
       "    </tr>\n",
       "    <tr>\n",
       "      <th>45638</th>\n",
       "      <td>Dias</td>\n",
       "      <td>3.000000</td>\n",
       "    </tr>\n",
       "    <tr>\n",
       "      <th>16434</th>\n",
       "      <td>Meses</td>\n",
       "      <td>2.000000</td>\n",
       "    </tr>\n",
       "  </tbody>\n",
       "</table>\n",
       "</div>"
      ],
      "text/plain": [
       "       Unidad de Duracion   Duracion\n",
       "450332               Dias   4.500000\n",
       "640442              Meses  12.000000\n",
       "594854               Dias  10.466667\n",
       "752367                 ND   0.000000\n",
       "332149              Meses  11.000000\n",
       "191765               Dias   0.333333\n",
       "394274               Dias   6.066667\n",
       "148128               Dias   3.033333\n",
       "350159               Dias  10.900000\n",
       "195861               Dias   5.000000\n",
       "739125               Dias   1.000000\n",
       "435030               Dias  10.566667\n",
       "235374              Meses   8.000000\n",
       "84                  Meses   2.000000\n",
       "580212               Dias   0.333333\n",
       "311750              Meses   1.000000\n",
       "272389               Dias   4.666667\n",
       "435072              Meses   7.000000\n",
       "45638                Dias   3.000000\n",
       "16434               Meses   2.000000"
      ]
     },
     "execution_count": 45,
     "metadata": {},
     "output_type": "execute_result"
    }
   ],
   "source": [
    "np.random.seed(333)\n",
    "df_SECOP[['Unidad de Duracion','Duracion']].sample(20)"
   ]
  },
  {
   "cell_type": "code",
   "execution_count": 46,
   "metadata": {},
   "outputs": [],
   "source": [
    "df_SECOP.loc[df_SECOP[\"Unidad de Duracion\"]==\"Dias\",\"Duracion\"]=df_SECOP[\"Duracion\"]/30\n",
    "df_SECOP.loc[df_SECOP[\"Unidad de Duracion\"]==\"Años\",\"Duracion\"]=df_SECOP[\"Duracion\"]*12"
   ]
  },
  {
   "cell_type": "code",
   "execution_count": 47,
   "metadata": {},
   "outputs": [
    {
     "data": {
      "text/html": [
       "<div>\n",
       "<style scoped>\n",
       "    .dataframe tbody tr th:only-of-type {\n",
       "        vertical-align: middle;\n",
       "    }\n",
       "\n",
       "    .dataframe tbody tr th {\n",
       "        vertical-align: top;\n",
       "    }\n",
       "\n",
       "    .dataframe thead th {\n",
       "        text-align: right;\n",
       "    }\n",
       "</style>\n",
       "<table border=\"1\" class=\"dataframe\">\n",
       "  <thead>\n",
       "    <tr style=\"text-align: right;\">\n",
       "      <th></th>\n",
       "      <th>Unidad de Duracion</th>\n",
       "      <th>Duracion</th>\n",
       "    </tr>\n",
       "  </thead>\n",
       "  <tbody>\n",
       "    <tr>\n",
       "      <th>450332</th>\n",
       "      <td>Dias</td>\n",
       "      <td>0.150000</td>\n",
       "    </tr>\n",
       "    <tr>\n",
       "      <th>640442</th>\n",
       "      <td>Meses</td>\n",
       "      <td>12.000000</td>\n",
       "    </tr>\n",
       "    <tr>\n",
       "      <th>594854</th>\n",
       "      <td>Dias</td>\n",
       "      <td>0.348889</td>\n",
       "    </tr>\n",
       "    <tr>\n",
       "      <th>752367</th>\n",
       "      <td>ND</td>\n",
       "      <td>0.000000</td>\n",
       "    </tr>\n",
       "    <tr>\n",
       "      <th>332149</th>\n",
       "      <td>Meses</td>\n",
       "      <td>11.000000</td>\n",
       "    </tr>\n",
       "    <tr>\n",
       "      <th>191765</th>\n",
       "      <td>Dias</td>\n",
       "      <td>0.011111</td>\n",
       "    </tr>\n",
       "    <tr>\n",
       "      <th>394274</th>\n",
       "      <td>Dias</td>\n",
       "      <td>0.202222</td>\n",
       "    </tr>\n",
       "    <tr>\n",
       "      <th>148128</th>\n",
       "      <td>Dias</td>\n",
       "      <td>0.101111</td>\n",
       "    </tr>\n",
       "    <tr>\n",
       "      <th>350159</th>\n",
       "      <td>Dias</td>\n",
       "      <td>0.363333</td>\n",
       "    </tr>\n",
       "    <tr>\n",
       "      <th>195861</th>\n",
       "      <td>Dias</td>\n",
       "      <td>0.166667</td>\n",
       "    </tr>\n",
       "    <tr>\n",
       "      <th>739125</th>\n",
       "      <td>Dias</td>\n",
       "      <td>0.033333</td>\n",
       "    </tr>\n",
       "    <tr>\n",
       "      <th>435030</th>\n",
       "      <td>Dias</td>\n",
       "      <td>0.352222</td>\n",
       "    </tr>\n",
       "    <tr>\n",
       "      <th>235374</th>\n",
       "      <td>Meses</td>\n",
       "      <td>8.000000</td>\n",
       "    </tr>\n",
       "    <tr>\n",
       "      <th>84</th>\n",
       "      <td>Meses</td>\n",
       "      <td>2.000000</td>\n",
       "    </tr>\n",
       "    <tr>\n",
       "      <th>580212</th>\n",
       "      <td>Dias</td>\n",
       "      <td>0.011111</td>\n",
       "    </tr>\n",
       "    <tr>\n",
       "      <th>311750</th>\n",
       "      <td>Meses</td>\n",
       "      <td>1.000000</td>\n",
       "    </tr>\n",
       "    <tr>\n",
       "      <th>272389</th>\n",
       "      <td>Dias</td>\n",
       "      <td>0.155556</td>\n",
       "    </tr>\n",
       "    <tr>\n",
       "      <th>435072</th>\n",
       "      <td>Meses</td>\n",
       "      <td>7.000000</td>\n",
       "    </tr>\n",
       "    <tr>\n",
       "      <th>45638</th>\n",
       "      <td>Dias</td>\n",
       "      <td>0.100000</td>\n",
       "    </tr>\n",
       "    <tr>\n",
       "      <th>16434</th>\n",
       "      <td>Meses</td>\n",
       "      <td>2.000000</td>\n",
       "    </tr>\n",
       "  </tbody>\n",
       "</table>\n",
       "</div>"
      ],
      "text/plain": [
       "       Unidad de Duracion   Duracion\n",
       "450332               Dias   0.150000\n",
       "640442              Meses  12.000000\n",
       "594854               Dias   0.348889\n",
       "752367                 ND   0.000000\n",
       "332149              Meses  11.000000\n",
       "191765               Dias   0.011111\n",
       "394274               Dias   0.202222\n",
       "148128               Dias   0.101111\n",
       "350159               Dias   0.363333\n",
       "195861               Dias   0.166667\n",
       "739125               Dias   0.033333\n",
       "435030               Dias   0.352222\n",
       "235374              Meses   8.000000\n",
       "84                  Meses   2.000000\n",
       "580212               Dias   0.011111\n",
       "311750              Meses   1.000000\n",
       "272389               Dias   0.155556\n",
       "435072              Meses   7.000000\n",
       "45638                Dias   0.100000\n",
       "16434               Meses   2.000000"
      ]
     },
     "execution_count": 47,
     "metadata": {},
     "output_type": "execute_result"
    }
   ],
   "source": [
    "np.random.seed(333)\n",
    "df_SECOP[[\"Unidad de Duracion\",\"Duracion\"]].sample(20)"
   ]
  },
  {
   "cell_type": "code",
   "execution_count": 44,
   "metadata": {},
   "outputs": [
    {
     "data": {
      "text/plain": [
       "(781762, 26)"
      ]
     },
     "execution_count": 44,
     "metadata": {},
     "output_type": "execute_result"
    }
   ],
   "source": [
    "df_SECOP.shape"
   ]
  },
  {
   "cell_type": "code",
   "execution_count": null,
   "metadata": {},
   "outputs": [],
   "source": [
    "df[\"Duracion_2\"] = np.where(df['Unidad de Duracion'] == \"Dias\", df['Duracion']/30,  df['Duracion']) #Otra forma"
   ]
  }
 ],
 "metadata": {
  "kernelspec": {
   "display_name": "Python 3",
   "language": "python",
   "name": "python3"
  },
  "language_info": {
   "codemirror_mode": {
    "name": "ipython",
    "version": 3
   },
   "file_extension": ".py",
   "mimetype": "text/x-python",
   "name": "python",
   "nbconvert_exporter": "python",
   "pygments_lexer": "ipython3",
   "version": "3.7.3"
  },
  "toc": {
   "base_numbering": 1,
   "nav_menu": {},
   "number_sections": true,
   "sideBar": true,
   "skip_h1_title": false,
   "title_cell": "Table of Contents",
   "title_sidebar": "Contents",
   "toc_cell": true,
   "toc_position": {},
   "toc_section_display": true,
   "toc_window_display": false
  },
  "varInspector": {
   "cols": {
    "lenName": 16,
    "lenType": 16,
    "lenVar": 40
   },
   "kernels_config": {
    "python": {
     "delete_cmd_postfix": "",
     "delete_cmd_prefix": "del ",
     "library": "var_list.py",
     "varRefreshCmd": "print(var_dic_list())"
    },
    "r": {
     "delete_cmd_postfix": ") ",
     "delete_cmd_prefix": "rm(",
     "library": "var_list.r",
     "varRefreshCmd": "cat(var_dic_list()) "
    }
   },
   "types_to_exclude": [
    "module",
    "function",
    "builtin_function_or_method",
    "instance",
    "_Feature"
   ],
   "window_display": false
  }
 },
 "nbformat": 4,
 "nbformat_minor": 4
}
